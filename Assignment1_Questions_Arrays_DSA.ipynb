{
 "cells": [
  {
   "cell_type": "markdown",
   "id": "88c0f57b",
   "metadata": {},
   "source": [
    "# Assignment 1 Questions - Arrays | DSA"
   ]
  },
  {
   "cell_type": "markdown",
   "id": "d87a5950",
   "metadata": {},
   "source": [
    "## Question 1"
   ]
  },
  {
   "cell_type": "code",
   "execution_count": 35,
   "id": "73a6516a",
   "metadata": {},
   "outputs": [
    {
     "data": {
      "text/plain": [
       "[0, 1]"
      ]
     },
     "execution_count": 35,
     "metadata": {},
     "output_type": "execute_result"
    }
   ],
   "source": [
    "''' **Q1.** Given an array of integers nums and an integer target, return indices of the two numbers such that they add up to target.\n",
    "\n",
    "You may assume that each input would have exactly one solution, and you may not use the same element twice.\n",
    "\n",
    "You can return the answer in any order.\n",
    "\n",
    "**Example:**\n",
    "Input: nums = [2,7,11,15], target = 9\n",
    "Output0 [0,1]\n",
    "\n",
    "**Explanation:** Because nums[0] + nums[1] == 9, we return [0, 1]\n",
    "\n",
    "'''\n",
    "\n",
    "#===================================================================\n",
    "\n",
    "def question1(nums, target):\n",
    "    output = []\n",
    "    for i in range(0,len(nums)):\n",
    "        for j in range(i,len(nums)):\n",
    "            if nums[i]+nums[j] == target:\n",
    "                output.append(i)\n",
    "                output.append(j)\n",
    "                return output\n",
    "                   \n",
    "question1([2,7,11,15],9)\n"
   ]
  },
  {
   "cell_type": "markdown",
   "id": "38ae2e38",
   "metadata": {},
   "source": [
    "## Question 2"
   ]
  },
  {
   "cell_type": "code",
   "execution_count": 25,
   "id": "ea6efe3d",
   "metadata": {},
   "outputs": [
    {
     "name": "stdout",
     "output_type": "stream",
     "text": [
      "k value: 2  nums: [2, 2, '_', '_']\n"
     ]
    }
   ],
   "source": [
    "'''\n",
    "**Q2.** Given an integer array nums and an integer val, remove all occurrences of val in nums in-place. The order of the elements may be changed. Then return the number of elements in nums which are not equal to val.\n",
    "\n",
    "Consider the number of elements in nums which are not equal to val be k, to get accepted, you need to do the following things:\n",
    "\n",
    "- Change the array nums such that the first k elements of nums contain the elements which are not equal to val. The remaining elements of nums are not important as well as the size of nums.\n",
    "- Return k.\n",
    "\n",
    "**Example :**\n",
    "Input: nums = [3,2,2,3], val = 3\n",
    "Output: 2, nums = [2,2,_*,_*]\n",
    "\n",
    "**Explanation:** Your function should return k = 2, with the first two elements of nums being 2. It does not matter what you leave beyond the returned k (hence they are underscores)\n",
    "\n",
    "'''\n",
    "\n",
    "#===================================================================\n",
    "\n",
    "def question2(nums, val):\n",
    "    vnums = []\n",
    "    dnums = []\n",
    "    count = 0\n",
    "    for i in range(0,len(nums)):\n",
    "        if nums[i] == val:\n",
    "            vnums.append('_')\n",
    "        else:\n",
    "            count = count+1\n",
    "            dnums.append(nums[i])\n",
    "    dnums.extend(vnums)\n",
    "    print(\"k value:\",count,\"\"*5, \"nums:\",dnums)\n",
    "    \n",
    "    \n",
    "question2([3,2,2,3],3)\n"
   ]
  },
  {
   "cell_type": "markdown",
   "id": "86d7253d",
   "metadata": {},
   "source": [
    "## Question 3"
   ]
  },
  {
   "cell_type": "code",
   "execution_count": 26,
   "id": "27559352",
   "metadata": {},
   "outputs": [
    {
     "name": "stdout",
     "output_type": "stream",
     "text": [
      "2\n"
     ]
    }
   ],
   "source": [
    "'''\n",
    "**Q3.** Given a sorted array of distinct integers and a target value, return the index if the target is found. If not, return the index where it would be if it were inserted in order.\n",
    "\n",
    "You must write an algorithm with O(log n) runtime complexity.\n",
    "\n",
    "**Example 1:**\n",
    "Input: nums = [1,3,5,6], target = 5\n",
    "\n",
    "Output: 2\n",
    "\n",
    "'''\n",
    "\n",
    "#===================================================================\n",
    "\n",
    "def question3(nums, target):\n",
    "    for i in range(len(nums)):\n",
    "        if nums[i] == target:\n",
    "            print(i)\n",
    "            break\n",
    "        elif nums[i] > target:\n",
    "            print(i)\n",
    "            \n",
    "            \n",
    "            \n",
    "question3(nums = [1,3,6], target = 5)\n"
   ]
  },
  {
   "cell_type": "markdown",
   "id": "c4a676df",
   "metadata": {},
   "source": [
    "## Question 4"
   ]
  },
  {
   "cell_type": "code",
   "execution_count": 28,
   "id": "fa9df1f1",
   "metadata": {},
   "outputs": [
    {
     "name": "stdout",
     "output_type": "stream",
     "text": [
      "[1, 2, 4]\n"
     ]
    }
   ],
   "source": [
    "'''\n",
    "**Q4.** You are given a large integer represented as an integer array digits, where each digits[i] is the ith digit of the integer. The digits are ordered from most significant to least significant in left-to-right order. The large integer does not contain any leading 0's.\n",
    "\n",
    "Increment the large integer by one and return the resulting array of digits.\n",
    "\n",
    "**Example 1:**\n",
    "Input: digits = [1,2,3]\n",
    "Output: [1,2,4]\n",
    "\n",
    "**Explanation:** The array represents the integer 123.\n",
    "\n",
    "Incrementing by one gives 123 + 1 = 124.\n",
    "Thus, the result should be [1,2,4].\n",
    "\n",
    "'''\n",
    "\n",
    "\n",
    "#===================================================================\n",
    "\n",
    "def question4(digits):\n",
    "    sum1 = 0\n",
    "    for i in range(0,len(digits)):\n",
    "        sum = digits[i]*10**(len(digits)-(i+1))\n",
    "        sum1 = sum1 + sum\n",
    "    sum1 = sum1+1\n",
    "    strng = str(sum1)\n",
    "    ndigits = []\n",
    "    for i in strng:\n",
    "        ndigits.append(int(i))\n",
    "        \n",
    "    print(ndigits)\n",
    "    \n",
    "    \n",
    "question4(digits = [1,2,3])\n",
    "\n"
   ]
  },
  {
   "cell_type": "markdown",
   "id": "9e964422",
   "metadata": {},
   "source": [
    "## Question 5 "
   ]
  },
  {
   "cell_type": "code",
   "execution_count": 30,
   "id": "17aad971",
   "metadata": {},
   "outputs": [
    {
     "name": "stdout",
     "output_type": "stream",
     "text": [
      "[1, 2, 2, 3, 5, 6]\n"
     ]
    }
   ],
   "source": [
    "'''\n",
    "**Q5.** You are given two integer arrays nums1 and nums2, sorted in non-decreasing order, and two integers m and n, representing the number of elements in nums1 and nums2 respectively.\n",
    "\n",
    "Merge nums1 and nums2 into a single array sorted in non-decreasing order.\n",
    "\n",
    "The final sorted array should not be returned by the function, but instead be stored inside the array nums1. To accommodate this, nums1 has a length of m + n, where the first m elements denote the elements that should be merged, and the last n elements are set to 0 and should be ignored. nums2 has a length of n.\n",
    "\n",
    "**Example 1:**\n",
    "Input: nums1 = [1,2,3,0,0,0], m = 3, nums2 = [2,5,6], n = 3\n",
    "Output: [1,2,2,3,5,6]\n",
    "\n",
    "**Explanation:** The arrays we are merging are [1,2,3] and [2,5,6].\n",
    "The result of the merge is [1,2,2,3,5,6] with the underlined elements coming from nums1.\n",
    "\n",
    "'''\n",
    "\n",
    "#==================================================================\n",
    "\n",
    "def question5(nums1,m,nums2,n):\n",
    "    for i in range(len(nums2)):\n",
    "        for j in range(len(nums1)):\n",
    "            if nums1[j] == 0:\n",
    "                nums1[j] = nums2[i]\n",
    "                break\n",
    "                \n",
    "    nums1.sort()\n",
    "    print(nums1)\n",
    "\n",
    "    \n",
    "question5(nums1 = [1,2,3,0,0,0], m = 3, nums2 = [2,5,6], n = 3)\n",
    "\n"
   ]
  },
  {
   "cell_type": "markdown",
   "id": "2ded7168",
   "metadata": {},
   "source": [
    "## Question 6"
   ]
  },
  {
   "cell_type": "code",
   "execution_count": 31,
   "id": "e90ef3a9",
   "metadata": {},
   "outputs": [
    {
     "name": "stdout",
     "output_type": "stream",
     "text": [
      "True\n"
     ]
    }
   ],
   "source": [
    "'''\n",
    "**Q6.** Given an integer array nums, return true if any value appears at least twice in the array, and return false if every element is distinct.\n",
    "\n",
    "**Example 1:**\n",
    "Input: nums = [1,2,3,1]\n",
    "\n",
    "Output: true\n",
    "\n",
    "'''\n",
    "\n",
    "#==================================================================\n",
    "\n",
    "def question6(nums):\n",
    "    found = 0\n",
    "    not_found = 0\n",
    "    for i in range(len(nums)):\n",
    "        for j in range(i+1,len(nums)):\n",
    "            if nums[i] == nums[j]:\n",
    "                found  = found + 1\n",
    "            else:\n",
    "                not_found = not_found + 1\n",
    "                \n",
    "    if found >= 1:\n",
    "        print(True)\n",
    "    elif not_found >= 1:\n",
    "        print(False)\n",
    "\n",
    "\n",
    "question6(nums = [1,2,3,1])\n"
   ]
  },
  {
   "cell_type": "markdown",
   "id": "02ed27a8",
   "metadata": {},
   "source": [
    "## Question 7"
   ]
  },
  {
   "cell_type": "code",
   "execution_count": 32,
   "id": "13e79585",
   "metadata": {},
   "outputs": [
    {
     "name": "stdout",
     "output_type": "stream",
     "text": [
      "[1, 3, 12, 2, 14, 31, 0, 0, 0, 0, 0]\n"
     ]
    }
   ],
   "source": [
    "'''\n",
    "**Q7.** Given an integer array nums, move all 0's to the end of it while maintaining the relative order of the nonzero elements.\n",
    "\n",
    "Note that you must do this in-place without making a copy of the array.\n",
    "\n",
    "**Example 1:**\n",
    "Input: nums = [0,1,0,3,12]\n",
    "Output: [1,3,12,0,0]\n",
    "\n",
    "'''\n",
    "\n",
    "#==================================================================\n",
    "\n",
    "def question7(nums):\n",
    "    for i in range(len(nums)):\n",
    "        if nums[i] == 0:\n",
    "            nums.remove(nums[i])\n",
    "            nums.append(0)\n",
    "            \n",
    "    print(nums)\n",
    "            \n",
    "  \n",
    "    \n",
    "question7(nums = [0,1,0,3,12,0,0,2,14,31,0])"
   ]
  },
  {
   "cell_type": "markdown",
   "id": "60e849ed",
   "metadata": {},
   "source": [
    "## Question 8"
   ]
  },
  {
   "cell_type": "code",
   "execution_count": 34,
   "id": "590f7523",
   "metadata": {},
   "outputs": [
    {
     "name": "stdout",
     "output_type": "stream",
     "text": [
      "[4, 5]\n"
     ]
    }
   ],
   "source": [
    "'''\n",
    "**Q8.** You have a set of integers s, which originally contains all the numbers from 1 to n. Unfortunately, due to some error, one of the numbers in s got duplicated to another number in the set, which results in repetition of one number and loss of another number.\n",
    "\n",
    "You are given an integer array nums representing the data status of this set after the error.\n",
    "\n",
    "Find the number that occurs twice and the number that is missing and return them in the form of an array.\n",
    "\n",
    "**Example 1:**\n",
    "Input: nums = [1,2,2,4]\n",
    "Output: [2,3]\n",
    "\n",
    "'''\n",
    "\n",
    "#===================================================================\n",
    "\n",
    "def question8(nums):\n",
    "    lst = []\n",
    "    nums.sort()\n",
    "    for i in range(len(nums)):\n",
    "        j = i + 1\n",
    "       # print(nums[i],nums[j])\n",
    "        if j < len(nums):\n",
    "            \n",
    "            if nums[i] == nums[j] :\n",
    "                rval = nums[i]\n",
    "                mval = rval+1\n",
    "            else:\n",
    "                pass\n",
    "    lst.append(rval)\n",
    "    lst.append(mval)\n",
    "    print(lst)\n",
    "    \n",
    "  \n",
    "    \n",
    "question8(nums = [1,2,3,4,4])"
   ]
  },
  {
   "cell_type": "code",
   "execution_count": null,
   "id": "46c268a5",
   "metadata": {},
   "outputs": [],
   "source": []
  }
 ],
 "metadata": {
  "kernelspec": {
   "display_name": "Python 3 (ipykernel)",
   "language": "python",
   "name": "python3"
  },
  "language_info": {
   "codemirror_mode": {
    "name": "ipython",
    "version": 3
   },
   "file_extension": ".py",
   "mimetype": "text/x-python",
   "name": "python",
   "nbconvert_exporter": "python",
   "pygments_lexer": "ipython3",
   "version": "3.10.9"
  }
 },
 "nbformat": 4,
 "nbformat_minor": 5
}
