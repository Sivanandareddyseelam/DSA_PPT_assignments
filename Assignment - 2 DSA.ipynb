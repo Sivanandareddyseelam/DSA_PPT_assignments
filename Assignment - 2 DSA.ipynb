{
 "cells": [
  {
   "cell_type": "markdown",
   "id": "efa3115a",
   "metadata": {},
   "source": [
    "#  Assignment - 2 DSA"
   ]
  },
  {
   "cell_type": "code",
   "execution_count": 2,
   "id": "89e3677c",
   "metadata": {},
   "outputs": [
    {
     "data": {
      "text/plain": [
       "'**Question 1**\\nGiven an integer array nums of 2n integers, group these integers into n pairs\\n(a1, b1), (a2, b2),..., (an, bn) such that the sum of min(ai, bi) for all i is maximized. Return the maximized sum.\\n\\n**Example 1:**\\nInput: nums = [1,4,3,2]\\nOutput: 4\\n\\n**Explanation:** All possible pairings (ignoring the ordering of elements) are:\\n\\n1. (1, 4), (2, 3) -> min(1, 4) + min(2, 3) = 1 + 2 = 3\\n2. (1, 3), (2, 4) -> min(1, 3) + min(2, 4) = 1 + 2 = 3\\n3. (1, 2), (3, 4) -> min(1, 2) + min(3, 4) = 1 + 3 = 4\\nSo the maximum possible sum is 4\\n'"
      ]
     },
     "execution_count": 2,
     "metadata": {},
     "output_type": "execute_result"
    }
   ],
   "source": [
    "'''**Question 1**\n",
    "Given an integer array nums of 2n integers, group these integers into n pairs\n",
    "(a1, b1), (a2, b2),..., (an, bn) such that the sum of min(ai, bi) for all i is maximized. Return the maximized sum.\n",
    "\n",
    "**Example 1:**\n",
    "Input: nums = [1,4,3,2]\n",
    "Output: 4\n",
    "\n",
    "**Explanation:** All possible pairings (ignoring the ordering of elements) are:\n",
    "\n",
    "1. (1, 4), (2, 3) -> min(1, 4) + min(2, 3) = 1 + 2 = 3\n",
    "2. (1, 3), (2, 4) -> min(1, 3) + min(2, 4) = 1 + 2 = 3\n",
    "3. (1, 2), (3, 4) -> min(1, 2) + min(3, 4) = 1 + 3 = 4\n",
    "So the maximum possible sum is 4\n",
    "'''\n",
    "\n",
    "##  Not able to understand Question\n"
   ]
  },
  {
   "cell_type": "code",
   "execution_count": 8,
   "id": "a69e2164",
   "metadata": {},
   "outputs": [
    {
     "data": {
      "text/plain": [
       "5"
      ]
     },
     "execution_count": 8,
     "metadata": {},
     "output_type": "execute_result"
    }
   ],
   "source": [
    "'''Question 2\n",
    "Alice has n candies, where the ith candy is of type candyType[i].\n",
    "Alice noticed that she started to gain weight, so she visited a doctor. \n",
    "\n",
    "The doctor advised Alice to only eat n / 2 of the candies she has (n is always even). \n",
    "Alice likes her candies very much, and she wants to eat the maximum number of different types of candies\n",
    "while still following the doctor's advice. \n",
    "\n",
    "Given the integer array candyType of length n, return the maximum number of different types of candies\n",
    "she can eat if she only eats n / 2 of them.\n",
    "\n",
    "Example 1:\n",
    "Input: candyType = [1,1,2,2,3,3]\n",
    "Output: 3\n",
    "\n",
    "Explanation: Alice can only eat 6 / 2 = 3 candies. Since there are only 3 types, she can eat one of each type.'''\n",
    "\n",
    "\n",
    "def max_cand(candType):\n",
    "    n = len(candType)\n",
    "    distinct_candi = len(set(candType))\n",
    "    if distinct_candi < n/2:\n",
    "        return distinct_candi\n",
    "    else:\n",
    "        return n//2\n",
    "    \n",
    "\n",
    "    \n",
    "#max_cand(candType = [1,1,2,2,3,3])\n",
    "max_cand(candType = [1,4,2,5,3,3,4,5,5,6])\n",
    "\n"
   ]
  },
  {
   "cell_type": "code",
   "execution_count": 2,
   "id": "e996aff0",
   "metadata": {},
   "outputs": [
    {
     "data": {
      "text/plain": [
       "6"
      ]
     },
     "execution_count": 2,
     "metadata": {},
     "output_type": "execute_result"
    }
   ],
   "source": [
    "'''Question 3\n",
    "We define a harmonious array as an array where the difference between its maximum value\n",
    "and its minimum value is exactly 1.\n",
    "\n",
    "Given an integer array nums, return the length of its longest harmonious subsequence\n",
    "among all its possible subsequences.\n",
    "\n",
    "A subsequence of an array is a sequence that can be derived from the array by deleting some or no elements\n",
    "without changing the order of the remaining elements.\n",
    "\n",
    "Example 1:\n",
    "Input: nums = [1,3,2,2,5,2,3,7]\n",
    "Output: 5\n",
    "\n",
    "Explanation: The longest harmonious subsequence is [3,2,2,2,3].'''\n",
    "\n",
    "\n",
    "def harmoni_sequence(nums):\n",
    "    lst = []\n",
    "    \n",
    "    for i in nums:\n",
    "        if i in nums and i+1 in nums:\n",
    "            minv = nums.count(i)\n",
    "            maxv = nums.count(i+1)\n",
    "            total = minv+maxv\n",
    "            lst.append(total)\n",
    "        \n",
    "    n = max(lst)\n",
    "    return n      \n",
    "           \n",
    "\n",
    "\n",
    "harmoni_sequence(nums = [1,3,2,2,5,2,3,3,7])\n",
    "\n",
    "\n",
    "\n"
   ]
  },
  {
   "cell_type": "code",
   "execution_count": 31,
   "id": "2e401dee",
   "metadata": {},
   "outputs": [
    {
     "name": "stdout",
     "output_type": "stream",
     "text": [
      "1 0 0\n",
      "0 0 0\n",
      "1\n",
      "1 0 0\n",
      "0 0 0\n",
      "2\n",
      "1 0 1\n"
     ]
    },
    {
     "data": {
      "text/plain": [
       "False"
      ]
     },
     "execution_count": 31,
     "metadata": {},
     "output_type": "execute_result"
    }
   ],
   "source": [
    "'''Question 4\n",
    "You have a long flowerbed in which some of the plots are planted, and some are not.\n",
    "However, flowers cannot be planted in adjacent plots.\n",
    "Given an integer array flowerbed containing 0's and 1's, where 0 means empty and 1 means not empty, \n",
    "and an integer n, return true if n new flowers can be planted in the flowerbed without \n",
    "violating the no-adjacent-flowers rule and false otherwise.\n",
    "\n",
    "Example 1:\n",
    "Input: flowerbed = [1,0,0,0,1], n = 1\n",
    "Output: true'''\n",
    "\n",
    "\n",
    "def flowerbed_planta(flowerbed, n):\n",
    "    count = 0\n",
    "    for i in range(1,len(flowerbed)):\n",
    "        if i+1 < len(flowerbed):\n",
    "            print(flowerbed[i-1],flowerbed[i],flowerbed[i+1])\n",
    "\n",
    "            if (flowerbed[i] == flowerbed[i-1]) and (flowerbed[i] == flowerbed[i+1]) and i+1 < len(flowerbed):\n",
    "                flowerbed[i]   = 1\n",
    "                count = count+1\n",
    "                print(count)\n",
    "        \n",
    "            \n",
    "    if count == n:\n",
    "        return True\n",
    "    else:\n",
    "        return False\n",
    "    \n",
    "flowerbed_planta(flowerbed = [1,0,0,0,0,0,1], n = 2)\n",
    "            \n",
    "        \n",
    "\n",
    "\n",
    "\n"
   ]
  },
  {
   "cell_type": "code",
   "execution_count": 45,
   "id": "c433a5d9",
   "metadata": {},
   "outputs": [
    {
     "data": {
      "text/plain": [
       "180"
      ]
     },
     "execution_count": 45,
     "metadata": {},
     "output_type": "execute_result"
    }
   ],
   "source": [
    "'''Question 5\n",
    "Given an integer array nums, find three numbers whose product is maximum and return the maximum product.\n",
    "\n",
    "Example 1:\n",
    "Input: nums = [1,2,3]\n",
    "Output: 6'''\n",
    "\n",
    "def max_prod_three(nums):\n",
    "    nums.sort()\n",
    "    ln = len(nums)\n",
    "    if ln >3 :\n",
    "        pro = nums[-1]*nums[-2]*nums[-3]\n",
    "    elif ln <= 3 and 0 not in nums:\n",
    "        pro = nums[-1]*nums[-2]*nums[-3]\n",
    "    else:\n",
    "        pro = 0\n",
    "    return pro\n",
    "        \n",
    "    \n",
    "    \n",
    "max_prod_three(nums= [0,4,5,9])\n",
    "\n"
   ]
  },
  {
   "cell_type": "code",
   "execution_count": 56,
   "id": "e9a643eb",
   "metadata": {},
   "outputs": [
    {
     "data": {
      "text/plain": [
       "4"
      ]
     },
     "execution_count": 56,
     "metadata": {},
     "output_type": "execute_result"
    }
   ],
   "source": [
    "'''Question 6\n",
    "Given an array of integers nums which is sorted in ascending order, and an integer target,\n",
    "write a function to search target in nums. If target exists, then return its index. Otherwise,\n",
    "return -1.\n",
    "\n",
    "You must write an algorithm with O(log n) runtime complexity.\n",
    "\n",
    "Input: nums = [-1,0,3,5,9,12], target = 9\n",
    "Output: 4\n",
    "\n",
    "Explanation: 9 exists in nums and its index is 4'''\n",
    "\n",
    "\n",
    "def target_exists(nums,target):\n",
    "    nums.sort()\n",
    "    ind = ''\n",
    "    for i in range(len(nums)):\n",
    "        if nums[i] == target:\n",
    "            ind = i\n",
    "    if ind == '':\n",
    "        return -1\n",
    "    else:\n",
    "        return ind\n",
    "            \n",
    "            \n",
    "    \n",
    "    \n",
    "target_exists(nums= [-1,0,3,5,9,12] ,target = 9)\n",
    "\n"
   ]
  },
  {
   "cell_type": "code",
   "execution_count": 69,
   "id": "208469a0",
   "metadata": {},
   "outputs": [
    {
     "data": {
      "text/plain": [
       "True"
      ]
     },
     "execution_count": 69,
     "metadata": {},
     "output_type": "execute_result"
    }
   ],
   "source": [
    "'''Question 7\n",
    "An array is monotonic if it is either monotone increasing or monotone decreasing.\n",
    "\n",
    "An array nums is monotone increasing if for all i <= j, nums[i] <= nums[j]. An array nums is\n",
    "monotone decreasing if for all i <= j, nums[i] >= nums[j].\n",
    "\n",
    "Given an integer array nums, return true if the given array is monotonic, or false otherwise.\n",
    "\n",
    "Example 1:\n",
    "Input: nums = [1,2,2,3]\n",
    "Output: true'''\n",
    "\n",
    "\n",
    "def monotone(nums):\n",
    "    count = 0\n",
    "    for i in range(len(nums)):\n",
    "        j = i+1\n",
    "        if j< len(nums):\n",
    "            if (nums[0] < nums[1]) and (nums[i] <= nums[j]):\n",
    "                count = count + 1\n",
    "               \n",
    "            elif (nums[0] > nums[1]) and (nums[i] >= nums[j]):\n",
    "                count = count + 1\n",
    "           \n",
    "    if count == (len(nums) - 1):\n",
    "        \n",
    "        return True\n",
    "    else:\n",
    "        return False\n",
    "    \n",
    "monotone(nums= [1,2,2,3])\n",
    "\n"
   ]
  },
  {
   "cell_type": "code",
   "execution_count": 1,
   "id": "c2892b24",
   "metadata": {},
   "outputs": [
    {
     "data": {
      "text/plain": [
       "0"
      ]
     },
     "execution_count": 1,
     "metadata": {},
     "output_type": "execute_result"
    }
   ],
   "source": [
    "'''Question 8\n",
    "You are given an integer array nums and an integer k.\n",
    "\n",
    "In one operation, you can choose any index i where 0 <= i < nums.length and\n",
    "change nums[i] to nums[i] + x where x is an integer from the range [-k, k]. \n",
    "You can apply this operation at most once for each index i.\n",
    "\n",
    "The score of nums is the difference between the maximum and minimum elements in nums.f\n",
    "\n",
    "Return the minimum score of nums after applying the mentioned operation at most once for each index in it.\n",
    "\n",
    "Example 1:\n",
    "Input: nums = [1], k = 0\n",
    "Output: 0\n",
    "\n",
    "Explanation: The score is max(nums) - min(nums) = 1 - 1 = 0.'''\n",
    "\n",
    "\n",
    "def find_score(nums, k):\n",
    "    \n",
    "    for i in range(len(nums)):\n",
    "        if nums[i] < 0:\n",
    "            nums[i] = nums[i] + k\n",
    "\n",
    "        else:\n",
    "            nums[i] = nums[i] - k \n",
    "            \n",
    "    maxv = max(nums)\n",
    "    minv  =min(nums)\n",
    "    score = maxv - minv\n",
    "    return score\n",
    "\n",
    "find_score(nums = [1], k = 0)\n",
    "    \n"
   ]
  },
  {
   "cell_type": "code",
   "execution_count": null,
   "id": "bf275607",
   "metadata": {},
   "outputs": [],
   "source": []
  }
 ],
 "metadata": {
  "kernelspec": {
   "display_name": "Python 3 (ipykernel)",
   "language": "python",
   "name": "python3"
  },
  "language_info": {
   "codemirror_mode": {
    "name": "ipython",
    "version": 3
   },
   "file_extension": ".py",
   "mimetype": "text/x-python",
   "name": "python",
   "nbconvert_exporter": "python",
   "pygments_lexer": "ipython3",
   "version": "3.9.12"
  }
 },
 "nbformat": 4,
 "nbformat_minor": 5
}
