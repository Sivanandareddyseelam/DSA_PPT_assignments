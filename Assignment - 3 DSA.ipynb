{
 "cells": [
  {
   "cell_type": "markdown",
   "id": "8974ec4c",
   "metadata": {},
   "source": [
    "# Assignment - 3 DSA"
   ]
  },
  {
   "cell_type": "code",
   "execution_count": 188,
   "id": "8fa93d97",
   "metadata": {},
   "outputs": [
    {
     "data": {
      "text/plain": [
       "2"
      ]
     },
     "execution_count": 188,
     "metadata": {},
     "output_type": "execute_result"
    }
   ],
   "source": [
    "'''Question 1\n",
    "Given an integer array nums of length n and an integer target, find three integers\n",
    "in nums such that the sum is closest to the target.\n",
    "Return the sum of the three integers.\n",
    "\n",
    "You may assume that each input would have exactly one solution.\n",
    "\n",
    "Example 1:\n",
    "Input: nums = [-1,2,1,-4], target = 1\n",
    "Output: 2\n",
    "\n",
    "Explanation: The sum that is closest to the target is 2. (-1 + 2 + 1 = 2).'''\n",
    "\n",
    "\n",
    "def sum_close_three(nums, target):\n",
    "    nums.sort()\n",
    "       \n",
    "    a = nums.index(target)\n",
    "    sum_close_3 = nums[a]+nums[a+1]+nums[a-1]\n",
    "    return sum_close_3\n",
    "    \n",
    "sum_close_three(nums=[-1,2,1,-4] , target = 1)         \n",
    "              "
   ]
  },
  {
   "cell_type": "code",
   "execution_count": 189,
   "id": "2e4d045d",
   "metadata": {},
   "outputs": [
    {
     "name": "stdout",
     "output_type": "stream",
     "text": [
      "1 -1 -2 2\n",
      "1 -1 2 -2\n",
      "1 -2 -1 2\n",
      "1 -2 2 -1\n",
      "1 2 -1 -2\n",
      "1 2 -2 -1\n"
     ]
    }
   ],
   "source": [
    "'''Question 2\n",
    "Given an array nums of n integers, return an array of all the unique quadruplets\n",
    "[nums[a], nums[b], nums[c], nums[d]] such that:\n",
    "           ● 0 <= a, b, c, d < n\n",
    "           ● a, b, c, and d are distinct.\n",
    "           ● nums[a] + nums[b] + nums[c] + nums[d] == target\n",
    "\n",
    "You may return the answer in any order.\n",
    "\n",
    "Example 1:\n",
    "Input: nums = [1,0,-1,0,-2,2], target = 0\n",
    "Output: [[-2,-1,1,2],[-2,0,0,2],[-1,0,0,1]]'''\n",
    "\n",
    "\n",
    "def quadruplets(nums, target):\n",
    "\n",
    "    for i in range(len(nums)):\n",
    "        for j in range(1,len(nums)):\n",
    "            for k in range(1,len(nums)):\n",
    "                for l in range(1,len(nums)):\n",
    "                    \n",
    "                    if nums[i]+nums[j]+nums[k]+nums[l] == target and nums[i]!=nums[j] and nums[i]!=nums[k] and nums[i]!=nums[l] and nums[j]!=nums[k] and nums[j]!=nums[l] and nums[k]!=nums[l]:\n",
    "                       \n",
    "                        print(nums[i],nums[j],nums[k],nums[l])\n",
    "                       \n",
    "                  \n",
    "                   \n",
    "                    \n",
    "quadruplets(nums= [1,0,-1,0,-2,2], target = 0)   "
   ]
  },
  {
   "cell_type": "code",
   "execution_count": null,
   "id": "656cac94",
   "metadata": {},
   "outputs": [],
   "source": [
    "'''**Question 3**\n",
    "A permutation of an array of integers is an arrangement of its members into a\n",
    "sequence or linear order.\n",
    "\n",
    "For example, for arr = [1,2,3], the following are all the permutations of arr:\n",
    "[1,2,3], [1,3,2], [2, 1, 3], [2, 3, 1], [3,1,2], [3,2,1].\n",
    "\n",
    "The next permutation of an array of integers is the next lexicographically greater\n",
    "permutation of its integer. More formally, if all the permutations of the array are\n",
    "sorted in one container according to their lexicographical order, then the next\n",
    "permutation of that array is the permutation that follows it in the sorted container.\n",
    "\n",
    "If such an arrangement is not possible, the array must be rearranged as the\n",
    "lowest possible order (i.e., sorted in ascending order).\n",
    "\n",
    "● For example, the next permutation of arr = [1,2,3] is [1,3,2].\n",
    "● Similarly, the next permutation of arr = [2,3,1] is [3,1,2].\n",
    "● While the next permutation of arr = [3,2,1] is [1,2,3] because [3,2,1] does not\n",
    "have a lexicographical larger rearrangement.\n",
    "\n",
    "Given an array of integers nums, find the next permutation of nums.\n",
    "The replacement must be in place and use only constant extra memory.\n",
    "\n",
    "**Example 1:**\n",
    "Input: nums = [1,2,3]\n",
    "Output: [1,3,2]\n",
    "\n",
    "'''\n",
    "\n",
    "\n",
    "\n",
    "\n",
    "\n"
   ]
  },
  {
   "cell_type": "code",
   "execution_count": 190,
   "id": "c5c17936",
   "metadata": {},
   "outputs": [
    {
     "data": {
      "text/plain": [
       "2"
      ]
     },
     "execution_count": 190,
     "metadata": {},
     "output_type": "execute_result"
    }
   ],
   "source": [
    "'''Question 4\n",
    "Given a sorted array of distinct integers and a target value, return the index if the\n",
    "target is found. If not, return the index where it would be if it were inserted in\n",
    "order.\n",
    "\n",
    "You must write an algorithm with O(log n) runtime complexity.\n",
    "\n",
    "Example 1:\n",
    "Input: nums = [1,3,5,6], target = 5\n",
    "Output: 2'''\n",
    "\n",
    "def target_found(nums,target):\n",
    "    for i in range(len(nums)):\n",
    "        if nums[i] == target:\n",
    "            return i\n",
    "        elif nums[i] > target:\n",
    "            return i\n",
    "        elif nums[i] < target:\n",
    "            pass\n",
    "    return len(nums)   \n",
    "    \n",
    "target_found(nums= [1,3,5,6],target = 5)\n",
    "\n",
    "\n"
   ]
  },
  {
   "cell_type": "code",
   "execution_count": 191,
   "id": "a067e219",
   "metadata": {},
   "outputs": [
    {
     "data": {
      "text/plain": [
       "[1, 3, 0]"
      ]
     },
     "execution_count": 191,
     "metadata": {},
     "output_type": "execute_result"
    }
   ],
   "source": [
    "'''\n",
    "**Question 5**\n",
    "You are given a large integer represented as an integer array digits, where each\n",
    "digits[i] is the ith digit of the integer. The digits are ordered from most significant\n",
    "to least significant in left-to-right order. The large integer does not contain any\n",
    "leading 0's.\n",
    "\n",
    "Increment the large integer by one and return the resulting array of digits.\n",
    "\n",
    "**Example 1:**\n",
    "Input: digits = [1,2,3]\n",
    "Output: [1,2,4]\n",
    "\n",
    "**Explanation:** The array represents the integer 123.\n",
    "Incrementing by one gives 123 + 1 = 124.\n",
    "Thus, the result should be [1,2,4].\n",
    "\n",
    "'''\n",
    "\n",
    "\n",
    "def integ_increment(digits):\n",
    "    value = 0\n",
    "    for i in range(len(digits)):\n",
    "        \n",
    "        value = value + digits[i]*(10**(len(digits)-1-i))\n",
    "        \n",
    "    value = value + 1\n",
    "    s = str(value)\n",
    "    lst = []\n",
    "    [lst.append(int(i)) for i in s]\n",
    "    return lst\n",
    "    \n",
    "\n",
    "integ_increment(digits = [1,2,9])\n",
    "\n",
    "\n",
    "\n",
    "\n"
   ]
  },
  {
   "cell_type": "code",
   "execution_count": 108,
   "id": "cb82f01f",
   "metadata": {},
   "outputs": [
    {
     "data": {
      "text/plain": [
       "1"
      ]
     },
     "execution_count": 108,
     "metadata": {},
     "output_type": "execute_result"
    }
   ],
   "source": [
    "'''Question 6\n",
    "Given a non-empty array of integers nums, every element appears twice except\n",
    "for one. Find that single one.\n",
    "\n",
    "You must implement a solution with a linear runtime complexity and use only\n",
    "constant extra space.\n",
    "\n",
    "Example 1:\n",
    "Input: nums = [2,2,1]\n",
    "Output: 1'''\n",
    "\n",
    "def single_one(nums):\n",
    "    dict = {}\n",
    "    st = set(nums)\n",
    "    for i in st:\n",
    "        count = 0\n",
    "        for j in range(len(nums)):\n",
    "            if i == nums[j]:\n",
    "                count = count+1\n",
    "        \n",
    "        if count == 1:\n",
    "            return i \n",
    "               \n",
    "\n",
    "single_one(nums= [2,2,1])\n",
    "\n",
    "\n"
   ]
  },
  {
   "cell_type": "code",
   "execution_count": 187,
   "id": "9df12739",
   "metadata": {},
   "outputs": [
    {
     "name": "stdout",
     "output_type": "stream",
     "text": [
      "[[2, 2], [4, 49], [51, 74], [76, 99]]\n"
     ]
    }
   ],
   "source": [
    "'''Question 7\n",
    "You are given an inclusive range [lower, upper] and a sorted unique integer array\n",
    "nums, where all elements are within the inclusive range.\n",
    "\n",
    "A number x is considered missing if x is in the range [lower, upper] and x is not in\n",
    "nums.\n",
    "\n",
    "Return the shortest sorted list of ranges that exactly covers all the missing\n",
    "numbers. That is, no element of nums is included in any of the ranges, and each\n",
    "missing number is covered by one of the ranges.\n",
    "\n",
    "Example 1:\n",
    "Input: nums = [0,1,3,50,75], lower = 0, upper = 99\n",
    "Output: [[2,2],[4,49],[51,74],[76,99]]\n",
    "\n",
    "Explanation: The ranges are:\n",
    "[2,2]\n",
    "[4,49]\n",
    "[51,74]\n",
    "[76,99]'''\n",
    "\n",
    "\n",
    "def missing_nums(nums, lower,upper):\n",
    "    lst = []\n",
    "    slst = [] \n",
    "    if nums[0] == lower:\n",
    "        pass\n",
    "    else:\n",
    "        nums.insert(0,lower)\n",
    "    \n",
    "        \n",
    "    for i in range(len(nums)):\n",
    "        slst = []\n",
    "        j = i+1\n",
    "        if nums[i]+1 not in nums:\n",
    "            \n",
    "            slst.append(nums[i]+ 1)\n",
    "            if j<len(nums):\n",
    "                slst.append(nums[j] -1)\n",
    "            else:\n",
    "                slst.append(upper)\n",
    "            lst.insert(len(lst),slst)\n",
    "            \n",
    "    print(lst)  \n",
    "        \n",
    "            \n",
    "missing_nums(nums = [0,1,3,50,75], lower = 0,upper = 99)\n",
    "\n"
   ]
  },
  {
   "cell_type": "code",
   "execution_count": 158,
   "id": "752b648f",
   "metadata": {},
   "outputs": [
    {
     "data": {
      "text/plain": [
       "True"
      ]
     },
     "execution_count": 158,
     "metadata": {},
     "output_type": "execute_result"
    }
   ],
   "source": [
    "'''Question 8\n",
    "Given an array of meeting time intervals where intervals[i] = [starti, endi],\n",
    "determine if a person could attend all meetings.\n",
    "\n",
    "Example 1:\n",
    "Input: intervals = [[0,30],[5,10],[15,20]]\n",
    "Output: false'''\n",
    "\n",
    "\n",
    "def meeting_time(intervals):\n",
    "    max = 0\n",
    "    min = 0\n",
    "    for i in intervals:\n",
    "        \n",
    "        if min <= i[0] and max <= i[1] and max <= i[0] and i[0]<i[1]:\n",
    "            min = i[0]\n",
    "            max = i[1]\n",
    "        else:\n",
    "            return False\n",
    "       \n",
    "    return True   \n",
    "        \n",
    "       \n",
    "            \n",
    "        \n",
    "meeting_time(intervals= [[0,10],[10,15],[15,20]])"
   ]
  }
 ],
 "metadata": {
  "kernelspec": {
   "display_name": "Python 3 (ipykernel)",
   "language": "python",
   "name": "python3"
  },
  "language_info": {
   "codemirror_mode": {
    "name": "ipython",
    "version": 3
   },
   "file_extension": ".py",
   "mimetype": "text/x-python",
   "name": "python",
   "nbconvert_exporter": "python",
   "pygments_lexer": "ipython3",
   "version": "3.9.12"
  }
 },
 "nbformat": 4,
 "nbformat_minor": 5
}
