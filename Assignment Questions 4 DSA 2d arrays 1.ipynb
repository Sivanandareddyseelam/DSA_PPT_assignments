{
 "cells": [
  {
   "cell_type": "code",
   "execution_count": 5,
   "id": "748f1ab9",
   "metadata": {},
   "outputs": [
    {
     "data": {
      "text/plain": [
       "[1, 5]"
      ]
     },
     "execution_count": 5,
     "metadata": {},
     "output_type": "execute_result"
    }
   ],
   "source": [
    "\"\"\"\n",
    "💡 **Question 1**\n",
    "Given three integer arrays arr1, arr2 and arr3 **sorted** in **strictly increasing** order, return a sorted array of\n",
    "**only** the integers that appeared in **all** three arrays.\n",
    "\n",
    "**Example 1:**\n",
    "\n",
    "Input: arr1 = [1,2,3,4,5], arr2 = [1,2,5,7,9], arr3 = [1,3,4,5,8]\n",
    "\n",
    "Output: [1,5]\n",
    "\n",
    "**Explanation:** Only 1 and 5 appeared in the three arrays.\n",
    "\n",
    "\n",
    "\"\"\"\n",
    "\n",
    "\n",
    "def common_elements_of3(arr1,arr2,arr3):\n",
    "    lst = []\n",
    "    for i in arr1:\n",
    "        if (i in arr2) and (i in arr3):\n",
    "            lst.append(i)\n",
    "    return lst\n",
    "\n",
    "arr1 = [1,2,3,4,5]\n",
    "arr2 = [1,2,5,7,9] \n",
    "arr3 = [1,3,4,5,8]\n",
    "common_elements_of3(arr1,arr2,arr3)\n",
    "\n"
   ]
  },
  {
   "cell_type": "code",
   "execution_count": 6,
   "id": "3ccc1af7",
   "metadata": {},
   "outputs": [
    {
     "data": {
      "text/plain": [
       "[[1, 3], [4, 6]]"
      ]
     },
     "execution_count": 6,
     "metadata": {},
     "output_type": "execute_result"
    }
   ],
   "source": [
    "\"\"\"\n",
    "💡 **Question 2**\n",
    "\n",
    "Given two **0-indexed** integer arrays nums1 and nums2, return *a list* answer *of size* 2 *where:*\n",
    "\n",
    "- answer[0] *is a list of all **distinct** integers in* nums1 *which are **not** present in* nums2*.*\n",
    "- answer[1] *is a list of all **distinct** integers in* nums2 *which are **not** present in* nums1.\n",
    "\n",
    "**Note** that the integers in the lists may be returned in **any** order.\n",
    "\n",
    "**Example 1:**\n",
    "\n",
    "**Input:** nums1 = [1,2,3], nums2 = [2,4,6]\n",
    "\n",
    "**Output:** [[1,3],[4,6]]\n",
    "\n",
    "**Explanation:**\n",
    "\n",
    "For nums1, nums1[1] = 2 is present at index 0 of nums2, whereas nums1[0] = 1 and nums1[2] = 3 are not present in nums2. \n",
    "Therefore, answer[0] = [1,3].\n",
    "\n",
    "For nums2, nums2[0] = 2 is present at index 1 of nums1, whereas nums2[1] = 4 and nums2[2] = 6 are not present in nums2.\n",
    "Therefore, answer[1] = [4,6].\n",
    "\n",
    "\n",
    "\"\"\"\n",
    "\n",
    "def listof_distict_int(nums1, nums2):\n",
    "    ans_0 = []\n",
    "    ans_1 = []\n",
    "    lst = [ans_0,ans_1]\n",
    "    for i in nums1:\n",
    "        if i not in nums2:\n",
    "            ans_0.append(i)\n",
    "    for i in nums2:\n",
    "        if i not in nums1:\n",
    "            ans_1.append(i)\n",
    "    return lst\n",
    "\n",
    "\n",
    "nums1 = [1,2,3] \n",
    "nums2 = [2,4,6]\n",
    "listof_distict_int(nums1, nums2)\n",
    "    "
   ]
  },
  {
   "cell_type": "code",
   "execution_count": 206,
   "id": "f0e44559",
   "metadata": {},
   "outputs": [
    {
     "data": {
      "text/plain": [
       "[[1, 4, 7], [2, 5, 8], [3, 6, 9]]"
      ]
     },
     "execution_count": 206,
     "metadata": {},
     "output_type": "execute_result"
    }
   ],
   "source": [
    "\"\"\"\n",
    "💡 **Question 3**\n",
    "Given a 2D integer array matrix, return *the **transpose** of* matrix.\n",
    "\n",
    "The **transpose** of a matrix is the matrix flipped over its main diagonal, switching the matrix's row and column indices.\n",
    "\n",
    "**Example 1:**\n",
    "\n",
    "Input: matrix = [[1,2,3],[4,5,6],[7,8,9]]\n",
    "\n",
    "Output: [[1,4,7],[2,5,8],[3,6,9]]\n",
    "\n",
    "\n",
    "\"\"\"\n",
    "import copy\n",
    "def transpose_ofmatrix(matrix):\n",
    "    rows = 3\n",
    "    cols = 3\n",
    "    T_matrix = copy.deepcopy(matrix)\n",
    "    #T_matrix = [[0 for _ in range(cols)] for _ in range(rows)]\n",
    "    #print(id(T_matrix),id(matrix))\n",
    "    #print(matrix,T_matrix)\n",
    "   \n",
    "    for i in range((len(matrix))):\n",
    "        for j in range(len(matrix)):\n",
    "            #if i!=j :\n",
    "                T_matrix[i][j]=matrix[j][i]\n",
    "                #print(matrix[j][i],i,j)\n",
    "                    \n",
    "    return T_matrix\n",
    "\n",
    "\n",
    "matrix = [[1,2,3],[4,5,6],[7,8,9]]\n",
    "transpose_ofmatrix(matrix)\n",
    "\n",
    "\n"
   ]
  },
  {
   "cell_type": "code",
   "execution_count": null,
   "id": "d8832426",
   "metadata": {},
   "outputs": [],
   "source": []
  },
  {
   "cell_type": "code",
   "execution_count": 144,
   "id": "4f24fb67",
   "metadata": {},
   "outputs": [
    {
     "name": "stdout",
     "output_type": "stream",
     "text": [
      "28\n"
     ]
    },
    {
     "data": {
      "text/plain": [
       "11"
      ]
     },
     "execution_count": 144,
     "metadata": {},
     "output_type": "execute_result"
    }
   ],
   "source": [
    "\"\"\"\n",
    "💡 **Question 4**\n",
    "Given an integer array nums of 2n integers, group these integers into n pairs (a1, b1), (a2, b2), ..., (an, bn) \n",
    "such that the sum of min(ai, bi) for all i is **maximized**. Return *the maximized sum*.\n",
    "\n",
    "**Example 1:**\n",
    "\n",
    "Input: nums = [1,4,3,2]\n",
    "\n",
    "Output: 4\n",
    "\n",
    "**Explanation:** All possible pairings (ignoring the ordering of elements) are:\n",
    "\n",
    "1. (1, 4), (2, 3) -> min(1, 4) + min(2, 3) = 1 + 2 = 3\n",
    "\n",
    "2. (1, 3), (2, 4) -> min(1, 3) + min(2, 4) = 1 + 2 = 3\n",
    "\n",
    "3. (1, 2), (3, 4) -> min(1, 2) + min(3, 4) = 1 + 3 = 4\n",
    "\n",
    "So the maximum possible sum is 4.\n",
    "\n",
    "\n",
    "\"\"\"\n",
    "\n",
    "def max_pos_sum(nums):\n",
    "    lst = []\n",
    "    tlst = []\n",
    "    max_lst = []\n",
    "    for i in range(len(nums)):\n",
    "        for j in nums[i:]:\n",
    "            tlst = []\n",
    "            tlst.append(nums[i])\n",
    "            tlst.append(j)\n",
    "            if nums[i] != j:\n",
    "                lst.append(tuple(tlst))\n",
    "    print(len(lst))       \n",
    "     \n",
    "    for i in range(0,len(lst),2):\n",
    "        #print(lst[0])\n",
    "        #print(min(lst[i]),min(lst[i+1]))\n",
    "        a = min(lst[i])+min(lst[i+1])\n",
    "        #print(a)\n",
    "        max_lst.append(a)  \n",
    "        \n",
    "    return max(max_lst)\n",
    "         \n",
    "            \n",
    "nums = [1,3,2,8,4,7,5,0]\n",
    "max_pos_sum(nums)\n"
   ]
  },
  {
   "cell_type": "code",
   "execution_count": 158,
   "id": "394f3fff",
   "metadata": {},
   "outputs": [
    {
     "data": {
      "text/plain": [
       "3"
      ]
     },
     "execution_count": 158,
     "metadata": {},
     "output_type": "execute_result"
    }
   ],
   "source": [
    "\"\"\"\n",
    "💡 **Question 5**\n",
    "You have n coins and you want to build a staircase with these coins. The staircase consists of k rows where the ith row has exactly i coins. The last row of the staircase **may be** incomplete.\n",
    "\n",
    "Given the integer n, return *the number of **complete rows** of the staircase you will build*.\n",
    "\n",
    "**Example 1:**\n",
    "\n",
    "[]()\n",
    "\n",
    "![v2.jpg](https://s3-us-west-2.amazonaws.com/secure.notion-static.com/4bd91cfa-d2b1-47b3-8197-a72e8dcfff4b/v2.jpg)\n",
    "\n",
    "**Input:** n = 5\n",
    "\n",
    "**Output:** 2\n",
    "\n",
    "**Explanation:** Because the 3rd row is incomplete, we return 2.\n",
    "\n",
    "\"\"\"\n",
    "\n",
    "def noof_completerows(n):\n",
    "    complete_rows = 0\n",
    "    noof_ele = 0\n",
    "    for i in range(1,n+1):\n",
    "        noof_ele = noof_ele + i\n",
    "        if noof_ele <= n:\n",
    "            complete_rows = complete_rows + 1\n",
    "\n",
    "    return complete_rows\n",
    "\n",
    "noof_completerows(6)\n",
    " \n",
    "    "
   ]
  },
  {
   "cell_type": "code",
   "execution_count": 161,
   "id": "2354dd1a",
   "metadata": {},
   "outputs": [
    {
     "data": {
      "text/plain": [
       "[0, 1, 9, 16, 100]"
      ]
     },
     "execution_count": 161,
     "metadata": {},
     "output_type": "execute_result"
    }
   ],
   "source": [
    "\"\"\"\n",
    "💡 Given an integer array nums sorted in **non-decreasing** order, return *an array of **the squares of each number** \n",
    "sorted in non-decreasing order*.\n",
    "\n",
    "**Example 1:**\n",
    "\n",
    "Input: nums = [-4,-1,0,3,10]\n",
    "\n",
    "Output: [0,1,9,16,100]\n",
    "\n",
    "**Explanation:** After squaring, the array becomes [16,1,0,9,100].\n",
    "After sorting, it becomes [0,1,9,16,100]\n",
    "\n",
    "\n",
    "\"\"\"\n",
    "\n",
    "def squaring_ofno(nums):\n",
    "    lst = [x**2 for x in nums]\n",
    "    lst.sort()\n",
    "    return lst\n",
    "\n",
    "nums = [-4,-1,0,3,10]\n",
    "squaring_ofno(nums)\n",
    "    "
   ]
  },
  {
   "cell_type": "code",
   "execution_count": 208,
   "id": "840e0185",
   "metadata": {},
   "outputs": [
    {
     "data": {
      "text/plain": [
       "4"
      ]
     },
     "execution_count": 208,
     "metadata": {},
     "output_type": "execute_result"
    }
   ],
   "source": [
    "\"\"\"\n",
    "💡 **Question 7**\n",
    "You are given an m x n matrix M initialized with all 0's and an array of operations ops, \n",
    "where ops[i] = [ai, bi] means M[x][y] should be incremented by one for all 0 <= x < ai and 0 <= y < bi.\n",
    "\n",
    "Count and return *the number of maximum integers in the matrix after performing all the operations*\n",
    "\n",
    "**Example 1:**\n",
    "\n",
    "![q4.jpg](https://s3-us-west-2.amazonaws.com/secure.notion-static.com/4d0890d0-7bc7-4f59-be8e-352d9f3c1c52/q4.jpg)\n",
    "\n",
    "**Input:** m = 3, n = 3, ops = [[2,2],[3,3]]\n",
    "\n",
    "**Output:** 4\n",
    "\n",
    "**Explanation:** The maximum integer in M is 2, and there are four of it in M. So return 4.\n",
    "\n",
    "\n",
    "\"\"\"\n",
    "\n",
    "def noof_maxintegers(m,n,ops):\n",
    "    M = [[0]*n for i in range(m) ]\n",
    "    max_ele = 0\n",
    "    noofmax_int = 0\n",
    "    for x in ops:\n",
    "        #ops_iteration(i)\n",
    "        for i in range(x[0]):\n",
    "            for j in range(x[1]):\n",
    "                M[i][j] = M[i][j] + 1\n",
    "                if M[i][j] > max_ele:\n",
    "                    max_ele = M[i][j]\n",
    "   \n",
    "    for i in M:\n",
    "        noofmax_int = noofmax_int + i.count(max_ele)\n",
    "      \n",
    "    return noofmax_int\n",
    "            \n",
    "\n",
    "m = 3 \n",
    "n = 3\n",
    "ops = [[2,2],[3,3]]\n",
    "noof_maxintegers(m,n,ops)\n"
   ]
  },
  {
   "cell_type": "code",
   "execution_count": 207,
   "id": "d5e40f8f",
   "metadata": {},
   "outputs": [
    {
     "name": "stdout",
     "output_type": "stream",
     "text": [
      "[2, 3, 5, 4, 1, 7]\n"
     ]
    }
   ],
   "source": [
    "\"\"\"\n",
    "💡 **Question 8**\n",
    "\n",
    "Given the array nums consisting of 2n elements in the form [x1,x2,...,xn,y1,y2,...,yn].\n",
    "\n",
    "*Return the array in the form* [x1,y1,x2,y2,...,xn,yn].\n",
    "\n",
    "**Example 1:**\n",
    "\n",
    "**Input:** nums = [2,5,1,3,4,7], n = 3\n",
    "\n",
    "**Output:** [2,3,5,4,1,7]\n",
    "\n",
    "**Explanation:** Since x1=2, x2=5, x3=1, y1=3, y2=4, y3=7 then the answer is [2,3,5,4,1,7].\n",
    "\n",
    "\n",
    "\"\"\"\n",
    "nums = [2,5,1,3,4,7]\n",
    "n = 3\n",
    "lst = []\n",
    "for i in range(n):\n",
    "    lst.append(nums[i])\n",
    "    lst.append(nums[i+n])\n",
    "    \n",
    "print(lst)"
   ]
  },
  {
   "cell_type": "code",
   "execution_count": null,
   "id": "a4a45570",
   "metadata": {},
   "outputs": [],
   "source": []
  }
 ],
 "metadata": {
  "kernelspec": {
   "display_name": "Python 3 (ipykernel)",
   "language": "python",
   "name": "python3"
  },
  "language_info": {
   "codemirror_mode": {
    "name": "ipython",
    "version": 3
   },
   "file_extension": ".py",
   "mimetype": "text/x-python",
   "name": "python",
   "nbconvert_exporter": "python",
   "pygments_lexer": "ipython3",
   "version": "3.10.9"
  }
 },
 "nbformat": 4,
 "nbformat_minor": 5
}
