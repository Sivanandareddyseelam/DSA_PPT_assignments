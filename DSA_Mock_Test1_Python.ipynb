{
 "cells": [
  {
   "cell_type": "markdown",
   "id": "73e5205a",
   "metadata": {},
   "source": [
    "# Mock Test 1 - Python"
   ]
  },
  {
   "cell_type": "markdown",
   "id": "09ae6bd8",
   "metadata": {},
   "source": [
    "## Question 1"
   ]
  },
  {
   "cell_type": "code",
   "execution_count": 59,
   "id": "32b1abcf",
   "metadata": {},
   "outputs": [
    {
     "name": "stdout",
     "output_type": "stream",
     "text": [
      "[0]\n",
      "[1, 3, 12, 0, 0]\n"
     ]
    }
   ],
   "source": [
    "'''Given an integer array nums, move all 0's to the end of it while maintaining the relative order of the non-zero elements.\n",
    "\n",
    "Note that you must do this in-place without making a copy of the array.\n",
    "\n",
    "Example 1:\n",
    "Input: nums = [0,1,0,3,12]\n",
    "Output: [1,3,12,0,0]\n",
    "\n",
    "Example 2:\n",
    "Input: nums = [0]\n",
    "Output: [0]\n",
    "\n",
    "Constraints:\n",
    "a. 1 <= nums.length <= 10^4\n",
    "b. -2^31 <= nums[i] <= 2^31 - 1\n",
    "\n",
    "'''\n",
    "\n",
    "\n",
    "\n",
    "def Move_Zeroes(nums):\n",
    "    if 1 <= len(nums) <= 10^4 :\n",
    "        for i in range(len(nums)):\n",
    "            if -2**31 <= nums[i] <= 2**31 - 1:\n",
    "                if nums[i] == 0:\n",
    "                    nums.remove(nums[i])\n",
    "                    nums.append(0)\n",
    "\n",
    "        return nums\n",
    "\n",
    "  \n",
    "    \n",
    "print(Move_Zeroes(nums = [0]))\n",
    "print(Move_Zeroes(nums = [0,1,0,3,12]))"
   ]
  },
  {
   "cell_type": "markdown",
   "id": "2203001d",
   "metadata": {},
   "source": [
    "## Question 2"
   ]
  },
  {
   "cell_type": "code",
   "execution_count": 61,
   "id": "a833e022",
   "metadata": {},
   "outputs": [
    {
     "name": "stdout",
     "output_type": "stream",
     "text": [
      "0\n",
      "2\n",
      "-1\n"
     ]
    }
   ],
   "source": [
    "'''First Unique Character in a String\n",
    "\n",
    "Given a string s, find the first non-repeating character in it and return its index. If it does not exist, return -1.\n",
    "\n",
    "Example 1:\n",
    "Input: s = \"leetcode\"\n",
    "Output: 0\n",
    "\n",
    "Example 2:\n",
    "Input: s = \"loveleetcode\"\n",
    "Output: 2\n",
    "\n",
    "Example 3:\n",
    "Input: s = \"aabb\"\n",
    "Output: -1\n",
    "\n",
    "Constraints:\n",
    "a. 1 <= s.length <= 10^5\n",
    "b. s consists of only lowercase English letters.\n",
    "'''\n",
    "\n",
    "\n",
    "def first_uniq_char(s):\n",
    "    dict = {}\n",
    "    count = 0\n",
    "    if 1 <= len(s) <= 10**5 and s.islower() == True:\n",
    "        for i in s:\n",
    "            count = 0\n",
    "            for j in range(len(s)):\n",
    "                if i == s[j]:\n",
    "                    ind = j\n",
    "                    count = count + 1\n",
    "            if count == 1:\n",
    "                return ind\n",
    "    return -1\n",
    "                    \n",
    "            \n",
    "print(first_uniq_char(s = \"leetcode\"))        \n",
    "print(first_uniq_char(s = \"loveleetcode\"))\n",
    "print(first_uniq_char(s =  \"aabb\"))\n"
   ]
  },
  {
   "cell_type": "code",
   "execution_count": null,
   "id": "b7927e17",
   "metadata": {},
   "outputs": [],
   "source": []
  },
  {
   "cell_type": "code",
   "execution_count": null,
   "id": "a194e921",
   "metadata": {},
   "outputs": [],
   "source": []
  }
 ],
 "metadata": {
  "kernelspec": {
   "display_name": "Python 3 (ipykernel)",
   "language": "python",
   "name": "python3"
  },
  "language_info": {
   "codemirror_mode": {
    "name": "ipython",
    "version": 3
   },
   "file_extension": ".py",
   "mimetype": "text/x-python",
   "name": "python",
   "nbconvert_exporter": "python",
   "pygments_lexer": "ipython3",
   "version": "3.10.9"
  }
 },
 "nbformat": 4,
 "nbformat_minor": 5
}
