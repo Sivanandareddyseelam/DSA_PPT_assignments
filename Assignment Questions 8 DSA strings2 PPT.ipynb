{
 "cells": [
  {
   "cell_type": "code",
   "execution_count": 1,
   "id": "d4c99923",
   "metadata": {},
   "outputs": [
    {
     "data": {
      "text/plain": [
       "231"
      ]
     },
     "execution_count": 1,
     "metadata": {},
     "output_type": "execute_result"
    }
   ],
   "source": [
    "\"\"\"\n",
    "<aside>\n",
    "💡 **Question 1**\n",
    "\n",
    "Given two strings s1 and s2, return *the lowest **ASCII** sum of deleted characters to make two strings equal*.\n",
    "\n",
    "**Example 1:**\n",
    "\n",
    "**Input:** s1 = \"sea\", s2 = \"eat\"\n",
    "\n",
    "**Output:** 231\n",
    "\n",
    "**Explanation:** Deleting \"s\" from \"sea\" adds the ASCII value of \"s\" (115) to the sum.\n",
    "\n",
    "Deleting \"t\" from \"eat\" adds 116 to the sum.\n",
    "\n",
    "At the end, both strings are equal, and 115 + 116 = 231 is the minimum sum possible to achieve this.\n",
    "\n",
    "</aside>\n",
    "\n",
    "\"\"\"\n",
    "def ascii_sum(s1,s2):\n",
    "    s1 = list(s1)\n",
    "    s2 = list(s2)\n",
    "    sum = 0\n",
    "    for i in range(max(len(s1),len(s2))):\n",
    "        if s1[i] not in s2:\n",
    "            sum = sum + ord(s1[i])\n",
    "        if s2[i] not in s1:\n",
    "            sum = sum + ord(s2[i])\n",
    "    return sum\n",
    "    \n",
    "    \n",
    "s1 = \"sea\"\n",
    "s2 = \"eat\"\n",
    "ascii_sum(s1,s2)\n"
   ]
  },
  {
   "cell_type": "code",
   "execution_count": 6,
   "id": "51606be9",
   "metadata": {},
   "outputs": [
    {
     "data": {
      "text/plain": [
       "True"
      ]
     },
     "execution_count": 6,
     "metadata": {},
     "output_type": "execute_result"
    }
   ],
   "source": [
    "\"\"\"\n",
    "<aside>\n",
    "💡 **Question 2**\n",
    "\n",
    "Given a string s containing only three types of characters: '(', ')' and '*', return true *if* s *is **valid***.\n",
    "\n",
    "The following rules define a **valid** string:\n",
    "\n",
    "- Any left parenthesis '(' must have a corresponding right parenthesis ')'.\n",
    "- Any right parenthesis ')' must have a corresponding left parenthesis '('.\n",
    "- Left parenthesis '(' must go before the corresponding right parenthesis ')'.\n",
    "- '*' could be treated as a single right parenthesis ')' or a single left parenthesis '(' or an empty string \"\".\n",
    "\n",
    "**Example 1:**\n",
    "\n",
    "**Input:** s = \"()\"\n",
    "\n",
    "**Output:**\n",
    "\n",
    "true\n",
    "\n",
    "</aside>\n",
    "\"\"\"\n",
    "\n",
    "\n",
    "def valid_string(s):\n",
    "    s = list(s)\n",
    "    par = 0\n",
    "    \n",
    "    for i in s:\n",
    "        if i == '(':\n",
    "            par = par + 1\n",
    "        elif i == \")\":\n",
    "            par = par - 1\n",
    "        elif i == \"*\":\n",
    "            if par == 1 and \"(\" in s:\n",
    "                par = par + 1\n",
    "            elif par == 1 and \")\" in s:\n",
    "                par = par - 1\n",
    "    if par == 0:\n",
    "        return True\n",
    "    else:\n",
    "        return False\n",
    "               \n",
    "    \n",
    "s = \"()\"   \n",
    "valid_string(s)"
   ]
  },
  {
   "cell_type": "code",
   "execution_count": 10,
   "id": "138b6cc0",
   "metadata": {},
   "outputs": [
    {
     "data": {
      "text/plain": [
       "2"
      ]
     },
     "execution_count": 10,
     "metadata": {},
     "output_type": "execute_result"
    }
   ],
   "source": [
    "\"\"\"\n",
    "Question 3\n",
    "Given two strings word1 and word2, return *the minimum number of **steps** required to make* word1 *and* word2 *the same*.\n",
    "\n",
    "In one **step**, you can delete exactly one character in either string.\n",
    "\n",
    "**Example 1:**\n",
    "\n",
    "**Input:** word1 = \"sea\", word2 = \"eat\"\n",
    "\n",
    "**Output:** 2\n",
    "\n",
    "**Explanation:** You need one step to make \"sea\" to \"ea\" and another step to make \"eat\" to \"ea\".\n",
    "\"\"\"\n",
    "\n",
    "def min_noofsteps(s1,s2):\n",
    "    s1 = list(s1)\n",
    "    s2 = list(s2)\n",
    "    count = 0\n",
    "    for i in range(max(len(s1),len(s2))):\n",
    "        if s1[i] not in s2:\n",
    "            #sum = sum + ord(s1[i])\n",
    "            count = count + 1\n",
    "        if s2[i] not in s1:\n",
    "            #sum = sum + ord(s2[i])\n",
    "            count = count + 1\n",
    "    return count\n",
    "    \n",
    "    \n",
    "s1 = \"sea\"\n",
    "s2 = \"eat\"\n",
    "min_noofsteps(s1,s2)\n"
   ]
  },
  {
   "cell_type": "code",
   "execution_count": 122,
   "id": "b11b16a0",
   "metadata": {},
   "outputs": [
    {
     "name": "stdout",
     "output_type": "stream",
     "text": [
      "['4', '2', '6', '3', '1', '5']\n"
     ]
    }
   ],
   "source": [
    "\"\"\"\n",
    "<aside>\n",
    "💡 **Question 4**\n",
    "\n",
    "You need to construct a binary tree from a string consisting of parenthesis and integers.\n",
    "\n",
    "The whole input represents a binary tree. It contains an integer followed by zero, one or two pairs of parenthesis. \n",
    "The integer represents the root's value and a pair of parenthesis contains a child binary tree with the same structure.\n",
    "You always start to construct the **left** child node of the parent first if it exists.\n",
    "\n",
    "**Input:** s = \"4(2(3)(1))(6(5))\"\n",
    "\n",
    "**Output:** [4,2,6,3,1,5]\n",
    "\n",
    "</aside>\n",
    "\"\"\"\n",
    "def binary_tree(s):\n",
    "    s = list(s)\n",
    "    dic = {}\n",
    "    count = 0\n",
    "    new_lst = []\n",
    "    sub_list = []\n",
    "    #print(s)\n",
    "    for i in range(len(s)):\n",
    "        #new_lst = []\n",
    "        if s[i] == \"(\":\n",
    "            count = count + 1\n",
    "            continue\n",
    "        elif s[i]  == \")\":\n",
    "            count = count -1\n",
    "            continue\n",
    "        elif s[i].isnumeric():\n",
    "            sub_list = [count,s[i]]\n",
    "            new_lst.append(sub_list)\n",
    "   \n",
    "    \n",
    "    lst=[]\n",
    "    for i in range(len(new_lst)):\n",
    "        for j in new_lst:\n",
    "            if i == j[0]:\n",
    "                lst.append(j[1])\n",
    "    print(lst)\n",
    "                 \n",
    "binary_tree(s)\n",
    "s = \"4(2(3)(1))(6(5))\"\n"
   ]
  },
  {
   "cell_type": "code",
   "execution_count": 141,
   "id": "2c66a48f",
   "metadata": {},
   "outputs": [
    {
     "data": {
      "text/plain": [
       "6"
      ]
     },
     "execution_count": 141,
     "metadata": {},
     "output_type": "execute_result"
    }
   ],
   "source": [
    "\"\"\"\n",
    "<aside>\n",
    "💡 **Question 5**\n",
    "\n",
    "Given an array of characters chars, compress it using the following algorithm:\n",
    "\n",
    "Begin with an empty string s. For each group of **consecutive repeating characters** in chars:\n",
    "\n",
    "- If the group's length is 1, append the character to s.\n",
    "- Otherwise, append the character followed by the group's length.\n",
    "\n",
    "The compressed string s **should not be returned separately**, but instead, be stored **in \n",
    "the input character array chars**. Note that group lengths that are 10 or longer will be split into multiple characters in chars.\n",
    "\n",
    "After you are done **modifying the input array,** return *the new length of the array*.\n",
    "\n",
    "You must write an algorithm that uses only constant extra space.\n",
    "\n",
    "**Example 1:**\n",
    "\n",
    "**Input:** chars = [\"a\",\"a\",\"b\",\"b\",\"c\",\"c\",\"c\"]\n",
    "\n",
    "**Output:** Return 6, and the first 6 characters of the input array should be: [\"a\",\"2\",\"b\",\"2\",\"c\",\"3\"]\n",
    "\n",
    "**Explanation:**\n",
    "\n",
    "The groups are \"aa\", \"bb\", and \"ccc\". This compresses to \"a2b2c3\".\n",
    "\n",
    "</aside>\n",
    "\"\"\"\n",
    "\n",
    "def compress_string(char):\n",
    "    count = 0\n",
    "    lst= []\n",
    "    for i in sorted(set(char)):\n",
    "        count = 0\n",
    "        temp = i\n",
    "        #print(i)\n",
    "        for j in char:\n",
    "            if temp == j:\n",
    "                count = count+1\n",
    "        lst.append(i)\n",
    "        lst.append(str(count))\n",
    "        \n",
    "    return len(lst)\n",
    "            \n",
    "\n",
    "chars = [\"a\",\"a\",\"b\",\"b\",\"c\",\"c\",\"c\"]\n",
    "compress_string(chars)\n",
    "\n",
    "\n",
    "\n"
   ]
  },
  {
   "cell_type": "code",
   "execution_count": 147,
   "id": "874df1b7",
   "metadata": {},
   "outputs": [
    {
     "data": {
      "text/plain": [
       "[0, 6]"
      ]
     },
     "execution_count": 147,
     "metadata": {},
     "output_type": "execute_result"
    }
   ],
   "source": [
    "\"\"\"\n",
    "<aside>\n",
    "💡 **Question 6**\n",
    "\n",
    "Given two strings s and p, return *an array of all the start indices of* p*'s anagrams in* s. You may return the answer in **any order**.\n",
    "\n",
    "An **Anagram** is a word or phrase formed by rearranging the letters of a different word or phrase, typically using all the original letters exactly once.\n",
    "\n",
    "**Example 1:**\n",
    "\n",
    "**Input:** s = \"cbaebabacd\", p = \"abc\"\n",
    "\n",
    "**Output:** [0,6]\n",
    "\n",
    "**Explanation:**\n",
    "\n",
    "The substring with start index = 0 is \"cba\", which is an anagram of \"abc\".\n",
    "\n",
    "The substring with start index = 6 is \"bac\", which is an anagram of \"abc\".\n",
    "\n",
    "</aside>\n",
    "\"\"\"\n",
    "\n",
    "def sub_string_anagram(s,p):\n",
    "    lst_ind = []\n",
    "    for i in range(len(s)):\n",
    "        temp = s[i:i+3]\n",
    "        count = 0\n",
    "        for j in temp:\n",
    "            if set(temp) == set(p):\n",
    "                if j in p:\n",
    "                    count = count + 1\n",
    "            \n",
    "        if count == len(temp):\n",
    "            lst_ind.append(i)\n",
    "    return lst_ind\n",
    "                \n",
    "   \n",
    "    \n",
    "s = \"cbaebabacd\"\n",
    "p = \"abc\"\n",
    "sub_string_anagram(s,p)\n",
    "    \n"
   ]
  },
  {
   "cell_type": "code",
   "execution_count": 155,
   "id": "c174a288",
   "metadata": {},
   "outputs": [
    {
     "data": {
      "text/plain": [
       "'aaabcbc'"
      ]
     },
     "execution_count": 155,
     "metadata": {},
     "output_type": "execute_result"
    }
   ],
   "source": [
    "\"\"\"\n",
    "<aside>\n",
    "💡 **Question 7**\n",
    "\n",
    "Given an encoded string, return its decoded string.\n",
    "\n",
    "The encoding rule is: k[encoded_string], where the encoded_string inside the square brackets is being repeated exactly k times. Note that k is guaranteed to be a positive integer.\n",
    "\n",
    "You may assume that the input string is always valid; there are no extra white spaces, square brackets are well-formed, etc. Furthermore, you may assume that the original data does not contain any digits and that digits are only for those repeat numbers, k. For example, there will not be input like 3a or 2[4].\n",
    "\n",
    "The test cases are generated so that the length of the output will never exceed 105.\n",
    "\n",
    "**Example 1:**\n",
    "\n",
    "**Input:** s = \"3[a]2[bc]\"\n",
    "\n",
    "**Output:** \"aaabcbc\"\n",
    "\n",
    "</aside>\n",
    "\n",
    "\"\"\"\n",
    "\n",
    "def string_encoding(s):\n",
    "    s1 = \"\"\n",
    "    fs = \"\"\n",
    "    for i in s:\n",
    "        if i.isnumeric():\n",
    "            count = int(i)\n",
    "        if i.isalpha():\n",
    "            s1 = s1+i\n",
    "        if i == \"]\":\n",
    "            s2 = s1*count\n",
    "            s1 = \"\"\n",
    "            #print(count,s1,s2)\n",
    "            fs = fs + s2\n",
    "    return fs\n",
    "    \n",
    "    \n",
    "s = \"3[a]2[bc]\"\n",
    "string_encoding(s)\n",
    "\n"
   ]
  },
  {
   "cell_type": "code",
   "execution_count": 163,
   "id": "65a2e8a3",
   "metadata": {},
   "outputs": [
    {
     "data": {
      "text/plain": [
       "True"
      ]
     },
     "execution_count": 163,
     "metadata": {},
     "output_type": "execute_result"
    }
   ],
   "source": [
    "\"\"\"\n",
    "<aside>\n",
    "💡 **Question 8**\n",
    "\n",
    "Given two strings s and goal, return true *if you can swap two letters in* s *so the result is equal to* goal*,\n",
    "otherwise, return* false*.*\n",
    "\n",
    "Swapping letters is defined as taking two indices i and j (0-indexed) such that i != j and swapping \n",
    "the characters at s[i] and s[j].\n",
    "\n",
    "- For example, swapping at indices 0 and 2 in \"abcd\" results in \"cbad\".\n",
    "\n",
    "**Example 1:**\n",
    "\n",
    "**Input:** s = \"ab\", goal = \"ba\"\n",
    "\n",
    "**Output:** true\n",
    "\n",
    "**Explanation:** You can swap s[0] = 'a' and s[1] = 'b' to get \"ba\", which is equal to goal.\n",
    "\n",
    "</aside>\n",
    "\n",
    "\"\"\"\n",
    "\n",
    "def swapig_forequal_words(s,goal):\n",
    "    s = list(s)\n",
    "    goal = list(goal)\n",
    "    for i in range(len(s)):\n",
    "        for j in range(i,len(s)):\n",
    "            s[i],s[j] = s[j],s[i]\n",
    "            if s == goal:\n",
    "                return True\n",
    "    return False\n",
    "    \n",
    "    \n",
    "s = \"ab\"\n",
    "goal = \"ba\"\n",
    "swapig_forequal_words(s,goal)\n",
    "\n"
   ]
  },
  {
   "cell_type": "code",
   "execution_count": null,
   "id": "7c86e053",
   "metadata": {},
   "outputs": [],
   "source": []
  }
 ],
 "metadata": {
  "kernelspec": {
   "display_name": "Python 3 (ipykernel)",
   "language": "python",
   "name": "python3"
  },
  "language_info": {
   "codemirror_mode": {
    "name": "ipython",
    "version": 3
   },
   "file_extension": ".py",
   "mimetype": "text/x-python",
   "name": "python",
   "nbconvert_exporter": "python",
   "pygments_lexer": "ipython3",
   "version": "3.10.9"
  }
 },
 "nbformat": 4,
 "nbformat_minor": 5
}
