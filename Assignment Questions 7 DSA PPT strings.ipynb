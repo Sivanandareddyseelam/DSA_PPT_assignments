{
 "cells": [
  {
   "cell_type": "code",
   "execution_count": 41,
   "id": "dbb98b58",
   "metadata": {},
   "outputs": [
    {
     "name": "stdout",
     "output_type": "stream",
     "text": [
      "{'e': 'a', 'g': 'd'}\n"
     ]
    },
    {
     "data": {
      "text/plain": [
       "False"
      ]
     },
     "execution_count": 41,
     "metadata": {},
     "output_type": "execute_result"
    }
   ],
   "source": [
    "\"\"\"\n",
    "💡 **Question 1**\n",
    "\n",
    "Given two strings s and t, *determine if they are isomorphic*.\n",
    "\n",
    "Two strings s and t are isomorphic if the characters in s can be replaced to get t.\n",
    "\n",
    "All occurrences of a character must be replaced with another character while preserving the order of characters. \n",
    "No two characters may map to the same character, but a character may map to itself.\n",
    "\n",
    "**Example 1:**\n",
    "\n",
    "**Input:** s = \"egg\", t = \"add\"\n",
    "\n",
    "**Output:** true\n",
    "\n",
    "\"\"\"\n",
    "#isomorphic : each letter of first word map to lettr in second word, no two characters map to the same charachter in first word\n",
    "\n",
    "def isomorphic_nums(s,t):\n",
    "    map={}\n",
    "    if len(s) != len(t):\n",
    "        return False\n",
    "    else:\n",
    "        keys = list(s)\n",
    "        values = list(t)\n",
    "        map = dict(zip(keys,values)) \n",
    "        print(map)\n",
    "        #a = \"e\"\n",
    "        #if s[a]\n",
    "    for i in range(len(s)):\n",
    "        k = s[i]\n",
    "        v = t[i]\n",
    "        if map[k] != v:\n",
    "            return False\n",
    "    return True\n",
    "  \n",
    "    \n",
    "s = \"egg\"\n",
    "t = \"acd\"\n",
    "isomorphic_nums(s,t)\n",
    "\n",
    "\n",
    "\n"
   ]
  },
  {
   "cell_type": "code",
   "execution_count": 43,
   "id": "3d2b75ab",
   "metadata": {},
   "outputs": [
    {
     "name": "stdout",
     "output_type": "stream",
     "text": [
      "True\n"
     ]
    }
   ],
   "source": [
    "\"\"\"\n",
    "<aside>\n",
    "💡 **Question 2**\n",
    "\n",
    "Given a string num which represents an integer, return true *if* num *is a **strobogrammatic number***.\n",
    "\n",
    "A **strobogrammatic number** is a number that looks the same when rotated 180 degrees (looked at upside down).\n",
    "\n",
    "**Example 1:**\n",
    "\n",
    "**Input:** num = \"69\"\n",
    "\n",
    "**Output:**\n",
    "\n",
    "true\n",
    "\n",
    "</aside>\n",
    "\"\"\"\n",
    "num = \"69\"\n",
    "a= list(num) \n",
    "b=a\n",
    "\n",
    "for n, i in enumerate(a):\n",
    "     if i == 0:\n",
    "         a[n] = 0\n",
    "     elif i == 1:\n",
    "        a[n] = 1\n",
    "     elif i == 8:\n",
    "        a[n] = 8\n",
    "     elif i == 6:\n",
    "        a[n] = 9\n",
    "     elif i == 9:\n",
    "        a[n] = 6\n",
    "\n",
    "a.reverse()\n",
    "if (a == b ):\n",
    "    print(\"True\")\n",
    "else:\n",
    "    print(\"False\")"
   ]
  },
  {
   "cell_type": "code",
   "execution_count": 81,
   "id": "5aca1b10",
   "metadata": {},
   "outputs": [
    {
     "name": "stdout",
     "output_type": "stream",
     "text": [
      "134\n"
     ]
    }
   ],
   "source": [
    "\"\"\"\n",
    "<aside>\n",
    "💡 **Question 3**\n",
    "\n",
    "Given two non-negative integers, num1 and num2 represented as string, return *the sum of* num1 *and* num2 *as a string*.\n",
    "\n",
    "You must solve the problem without using any built-in library for handling large integers (such as BigInteger).\n",
    "You must also not convert the inputs to integers directly.\n",
    "\n",
    "**Example 1:**\n",
    "\n",
    "**Input:** num1 = \"11\", num2 = \"123\"\n",
    "\n",
    "**Output:**\n",
    "\n",
    "\"134\"\n",
    "\n",
    "</aside>\n",
    "\"\"\"\n",
    "num1 = \"11\"\n",
    "num2 = \"123\"\n",
    "sum1 = 0\n",
    "sum2 = 0\n",
    "for i  in range(len(num1)):\n",
    "    q = int(num1[i])*(10**(len(num1)-i-1))\n",
    "    sum1 = sum1 + q\n",
    "\n",
    "    \n",
    "for i  in range(len(num2)):\n",
    "    q = int(num2[i])*(10**(len(num2)-i-1))\n",
    "    sum2 = sum2 + q\n",
    "\n",
    "total =str(sum1+sum2)\n",
    "print(total)\n",
    "\n"
   ]
  },
  {
   "cell_type": "code",
   "execution_count": 86,
   "id": "5d448257",
   "metadata": {},
   "outputs": [
    {
     "name": "stdout",
     "output_type": "stream",
     "text": [
      "s'teL ekat edoCteeL tsetnoc\n"
     ]
    }
   ],
   "source": [
    "\"\"\"\n",
    "<aside>\n",
    "💡 **Question 4**\n",
    "\n",
    "Given a string s, reverse the order of characters in each word within a sentence while still preserving whitespace\n",
    "and initial word order.\n",
    "\n",
    "**Example 1:**\n",
    "\n",
    "**Input:** s = \"Let's take LeetCode contest\"\n",
    "\n",
    "**Output:** \"s'teL ekat edoCteeL tsetnoc\"\n",
    "\n",
    "</aside>\n",
    "\"\"\"\n",
    "s = \"Let's take LeetCode contest\"\n",
    "\n",
    "lst = s.split()\n",
    "#print(lst)\n",
    "\n",
    "for i in range(len(lst)):\n",
    "    lst[i] = lst[i][::-1]\n",
    "\n",
    "#print(lst)\n",
    "\n",
    "new_s = \" \".join(lst)\n",
    "print(new_s)\n"
   ]
  },
  {
   "cell_type": "code",
   "execution_count": 97,
   "id": "4c8a2544",
   "metadata": {},
   "outputs": [
    {
     "name": "stdout",
     "output_type": "stream",
     "text": [
      "bacdfeg\n"
     ]
    }
   ],
   "source": [
    "\"\"\"\n",
    "<aside>\n",
    "💡 **Question 5**\n",
    "\n",
    "Given a string s and an integer k, reverse the first k characters for every 2k characters counting from the start of the string.\n",
    "\n",
    "If there are fewer than k characters left, reverse all of them.\n",
    "If there are less than 2k but greater than or equal to k characters,\n",
    "then reverse the first k characters and leave the other as original.\n",
    "\n",
    "**Example 1:**\n",
    "\n",
    "**Input:** s = \"abcdefg\", k = 2\n",
    "\n",
    "**Output:**\n",
    "\n",
    "\"bacdfeg\"\n",
    "\n",
    "</aside>\n",
    "\"\"\"\n",
    "\n",
    "s = \"abcdefg\"\n",
    "k = 2\n",
    "\n",
    "if len(s) < k:\n",
    "    print(s[::-1])\n",
    "if len(s)> k:\n",
    "    lst = []\n",
    "    for i in range(0,len(s),k):\n",
    "        lst.append(s[i:i+k])\n",
    "    for i in range(len(lst)):\n",
    "        if i % 2 == 0:\n",
    "            lst[i] = lst[i][::-1]\n",
    "    new_s = \"\".join(lst)\n",
    "    print(new_s)\n",
    "    \n"
   ]
  },
  {
   "cell_type": "code",
   "execution_count": 105,
   "id": "c6e1244a",
   "metadata": {},
   "outputs": [
    {
     "data": {
      "text/plain": [
       "True"
      ]
     },
     "execution_count": 105,
     "metadata": {},
     "output_type": "execute_result"
    }
   ],
   "source": [
    "\"\"\"\n",
    "<aside>\n",
    "💡 **Question 6**\n",
    "\n",
    "Given two strings s and goal, return true *if and only if* s *can become* goal *after some number of **shifts** on* s.\n",
    "\n",
    "A **shift** on s consists of moving the leftmost character of s to the rightmost position.\n",
    "\n",
    "- For example, if s = \"abcde\", then it will be \"bcdea\" after one shift.\n",
    "\n",
    "**Example 1:**\n",
    "\n",
    "**Input:** s = \"abcde\", goal = \"cdeab\"\n",
    "\n",
    "**Output:**\n",
    "\n",
    "true\n",
    "\n",
    "</aside>\n",
    "\"\"\"\n",
    "\n",
    "\n",
    "def s_in_goal(s,goal):\n",
    "    map_s = {}\n",
    "    map_goal = {}\n",
    "    for i in s:\n",
    "        map_s[i] = s.count(i)\n",
    "    for i in goal:\n",
    "        map_goal[i] = s.count(i)\n",
    "\n",
    "    for i in map_s:\n",
    "        if i in map_goal:\n",
    "            if map_s[i] != map_goal[i]:\n",
    "                return False\n",
    "        else:\n",
    "            return False\n",
    "\n",
    "    return True\n",
    "s = \"abcde\"\n",
    "goal = \"cdeab\"\n",
    "        \n",
    "s_in_goal(s,goal)\n"
   ]
  },
  {
   "cell_type": "code",
   "execution_count": 128,
   "id": "df12daa1",
   "metadata": {},
   "outputs": [
    {
     "data": {
      "text/plain": [
       "False"
      ]
     },
     "execution_count": 128,
     "metadata": {},
     "output_type": "execute_result"
    }
   ],
   "source": [
    "\"\"\"\n",
    "<aside>\n",
    "💡 **Question 7**\n",
    "\n",
    "Given two strings s and t, return true *if they are equal when both are typed into empty text editors*. \n",
    "'#' means a backspace character.\n",
    "\n",
    "Note that after backspacing an empty text, the text will continue empty.\n",
    "\n",
    "**Example 1:**\n",
    "\n",
    "**Input:** s = \"ab#c\", t = \"ad#c\"\n",
    "\n",
    "**Output:** true\n",
    "\n",
    "**Explanation:**\n",
    "\n",
    "Both s and t become \"ac\".\n",
    "\n",
    "</aside>\n",
    "\"\"\"\n",
    "\n",
    "def backspace(s,t):\n",
    "    s = list(s)\n",
    "    ns = len(s)\n",
    "    t = list(t)\n",
    "    nt = len(t)\n",
    "    \n",
    "    while \"#\" in s:\n",
    "        ind = s.index(\"#\")\n",
    "        s.remove(s[ind])\n",
    "        s.remove(s[ind-1])\n",
    "        #print(s)\n",
    "    while \"#\" in t:\n",
    "        ind = t.index(\"#\")\n",
    "        t.remove(t[ind])\n",
    "        t.remove(t[ind-1])\n",
    "        #print(t)\n",
    "        \n",
    "    if s == t:\n",
    "        return True\n",
    "    else:\n",
    "        return False\n",
    "        \n",
    "    \n",
    "    \n",
    "s = \"ab#c\"\n",
    "t = \"ad#c\"\n",
    "backspace(s,t)\n",
    "    \n",
    "    \n",
    "    "
   ]
  },
  {
   "cell_type": "code",
   "execution_count": 139,
   "id": "40a3830d",
   "metadata": {},
   "outputs": [
    {
     "data": {
      "text/plain": [
       "True"
      ]
     },
     "execution_count": 139,
     "metadata": {},
     "output_type": "execute_result"
    }
   ],
   "source": [
    "\"\"\"\n",
    "<aside>\n",
    "💡 **Question 8**\n",
    "\n",
    "You are given an array coordinates, coordinates[i] = [x, y], where [x, y] represents the coordinate of a point.\n",
    "Check if these points make a straight line in the XY plane.\n",
    "\n",
    "**Example 1:**\n",
    "**Input:** coordinates = [[1,2],[2,3],[3,4],[4,5],[5,6],[6,7]]\n",
    "\n",
    "**Output:** true\n",
    "\n",
    "</aside>\n",
    "\"\"\"\n",
    "\n",
    "def linear_equation(coord):\n",
    "    \n",
    "    slope = []\n",
    "    for i in range(len(coord)-1):\n",
    "        y = ((coord[i+1][1] - coord[i][1]) / (coord[i+1][0] - coord[i][0])) \n",
    "        slope.append(y)\n",
    "        \n",
    "    if slope.count(slope[0]) == len(slope):\n",
    "        return True\n",
    "    else:\n",
    "        return False\n",
    "    \n",
    "\n",
    "    \n",
    "coordinates = [[1,2],[2,3],[3,4],[4,5],[5,6],[6,7]]\n",
    "linear_equation(coordinates)\n"
   ]
  },
  {
   "cell_type": "code",
   "execution_count": null,
   "id": "48ac74a9",
   "metadata": {},
   "outputs": [],
   "source": []
  }
 ],
 "metadata": {
  "kernelspec": {
   "display_name": "Python 3 (ipykernel)",
   "language": "python",
   "name": "python3"
  },
  "language_info": {
   "codemirror_mode": {
    "name": "ipython",
    "version": 3
   },
   "file_extension": ".py",
   "mimetype": "text/x-python",
   "name": "python",
   "nbconvert_exporter": "python",
   "pygments_lexer": "ipython3",
   "version": "3.10.9"
  }
 },
 "nbformat": 4,
 "nbformat_minor": 5
}
